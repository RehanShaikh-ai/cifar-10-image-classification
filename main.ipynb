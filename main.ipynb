{
 "cells": [
  {
   "cell_type": "markdown",
   "id": "ea644928",
   "metadata": {},
   "source": [
    "## 🖼️ **CIFAR-10 Image Classification**\n",
    "\n",
    "## 📌 **Introduction**\n",
    "The CIFAR-10 dataset consists of **60,000 tiny color images (32x32 pixels)** across **10 object categories**, including airplane, automobile, bird, cat, deer, dog, frog, horse, ship, and truck.  \n",
    "Image classification is a **core task in computer vision**, helping machines understand and recognize visual information.\n",
    "\n",
    "This project focuses on:\n",
    "- Building a **Basic Convolutional Neural Network (CNN)** for image classification.  \n",
    "- Designing an **Enhanced CNN** with Dropout, Batch Normalization, and Data Augmentation for better generalization.  \n",
    "- Comparing both models using **accuracy, precision, recall, F1-score, and confusion matrices**.  \n",
    "- Visualizing **training curves and sample predictions**.\n",
    "\n",
    "---\n",
    "\n",
    "## 🎯 **Objectives**\n",
    "- Perform **data loading and preprocessing** on CIFAR-10 images.  \n",
    "- Train a **Basic CNN** and evaluate its performance.  \n",
    "- Develop an **Enhanced CNN** with additional techniques for improved accuracy.  \n",
    "- Compare **performance metrics** of both models.  \n",
    "- Visualize **training results and predictions** for better understanding.  \n"
   ]
  },
  {
   "cell_type": "markdown",
   "id": "89ebafaa",
   "metadata": {},
   "source": [
    "-------------"
   ]
  },
  {
   "cell_type": "markdown",
   "id": "d515fdb6",
   "metadata": {},
   "source": [
    "### **Importing required libraries**"
   ]
  },
  {
   "cell_type": "markdown",
   "id": "bdc59306",
   "metadata": {},
   "source": [
    "_run this command if you do NOT have these libraries installed_\n",
    "```bash\n",
    "pip install -r requirements.txt\n",
    "```"
   ]
  },
  {
   "cell_type": "code",
   "execution_count": null,
   "id": "1e755aa2",
   "metadata": {
    "execution": {
     "iopub.execute_input": "2025-08-20T07:22:06.985968Z",
     "iopub.status.busy": "2025-08-20T07:22:06.985968Z",
     "iopub.status.idle": "2025-08-20T07:22:14.011904Z",
     "shell.execute_reply": "2025-08-20T07:22:14.011904Z"
    }
   },
   "outputs": [],
   "source": [
    "import tensorflow as tf\n",
    "from tensorflow.keras.datasets import cifar10\n",
    "from tensorflow.keras.utils import to_categorical\n",
    "from tensorflow.keras import layers, models\n",
    "from tensorflow.keras.optimizers import Adam\n",
    "import matplotlib.pyplot as plt\n",
    "import numpy as np\n",
    "import warnings"
   ]
  },
  {
   "cell_type": "code",
   "execution_count": 112,
   "id": "ae01a1b7",
   "metadata": {},
   "outputs": [
    {
     "data": {
      "text/plain": [
       "[PhysicalDevice(name='/physical_device:GPU:0', device_type='GPU')]"
      ]
     },
     "execution_count": 112,
     "metadata": {},
     "output_type": "execute_result"
    }
   ],
   "source": [
    "tf.config.list_physical_devices('GPU')"
   ]
  },
  {
   "cell_type": "code",
   "execution_count": 113,
   "id": "a431779c",
   "metadata": {},
   "outputs": [
    {
     "data": {
      "text/plain": [
       "'2.10.0'"
      ]
     },
     "execution_count": 113,
     "metadata": {},
     "output_type": "execute_result"
    }
   ],
   "source": [
    "tf.__version__"
   ]
  },
  {
   "cell_type": "code",
   "execution_count": 114,
   "id": "83d21700",
   "metadata": {},
   "outputs": [],
   "source": [
    "warnings.filterwarnings('ignore')"
   ]
  },
  {
   "cell_type": "code",
   "execution_count": 115,
   "id": "1471222e",
   "metadata": {
    "execution": {
     "iopub.execute_input": "2025-08-20T07:22:14.017662Z",
     "iopub.status.busy": "2025-08-20T07:22:14.017662Z",
     "iopub.status.idle": "2025-08-20T07:22:16.055832Z",
     "shell.execute_reply": "2025-08-20T07:22:16.054817Z"
    }
   },
   "outputs": [],
   "source": [
    "(X_train, y_train),(X_test, y_test) = cifar10.load_data()"
   ]
  },
  {
   "cell_type": "code",
   "execution_count": 116,
   "id": "1433a242",
   "metadata": {
    "execution": {
     "iopub.execute_input": "2025-08-20T07:22:16.060095Z",
     "iopub.status.busy": "2025-08-20T07:22:16.059096Z",
     "iopub.status.idle": "2025-08-20T07:22:16.066802Z",
     "shell.execute_reply": "2025-08-20T07:22:16.066283Z"
    }
   },
   "outputs": [
    {
     "name": "stdout",
     "output_type": "stream",
     "text": [
      "Train Images:  (50000, 32, 32, 3)\n",
      "Train Images:  (10000, 32, 32, 3)\n"
     ]
    }
   ],
   "source": [
    "print(\"Train Images: \", X_train.shape)\n",
    "print(\"Train Images: \", X_test.shape)"
   ]
  },
  {
   "cell_type": "code",
   "execution_count": 117,
   "id": "7bb771a7",
   "metadata": {
    "execution": {
     "iopub.execute_input": "2025-08-20T07:22:16.071190Z",
     "iopub.status.busy": "2025-08-20T07:22:16.068870Z",
     "iopub.status.idle": "2025-08-20T07:22:17.198628Z",
     "shell.execute_reply": "2025-08-20T07:22:17.198014Z"
    }
   },
   "outputs": [],
   "source": [
    "X_train = X_train.astype('float') /255.0\n",
    "X_test = X_test.astype('float') /255.0"
   ]
  },
  {
   "cell_type": "code",
   "execution_count": 118,
   "id": "44678a55",
   "metadata": {
    "execution": {
     "iopub.execute_input": "2025-08-20T07:22:17.204673Z",
     "iopub.status.busy": "2025-08-20T07:22:17.204673Z",
     "iopub.status.idle": "2025-08-20T07:22:17.212645Z",
     "shell.execute_reply": "2025-08-20T07:22:17.212645Z"
    }
   },
   "outputs": [],
   "source": [
    "classes = 10\n",
    "y_train = to_categorical(y_train,classes)\n",
    "y_test = to_categorical(y_test,classes)"
   ]
  },
  {
   "cell_type": "code",
   "execution_count": 119,
   "id": "0ae2bdfe",
   "metadata": {
    "execution": {
     "iopub.execute_input": "2025-08-20T07:22:17.729819Z",
     "iopub.status.busy": "2025-08-20T07:22:17.729819Z",
     "iopub.status.idle": "2025-08-20T07:22:18.512427Z",
     "shell.execute_reply": "2025-08-20T07:22:18.511920Z"
    }
   },
   "outputs": [
    {
     "data": {
      "image/png": "[encoded data removed]",
      "text/plain": [
       "<Figure size 1500x200 with 10 Axes>"
      ]
     },
     "metadata": {},
     "output_type": "display_data"
    }
   ],
   "source": [
    "class_names = ['airplane','automobile','bird','cat','deer','dog','frog','horse','ship','truck']\n",
    "plt.figure(figsize=(15,2))\n",
    "for i in range(10):\n",
    "    plt.subplot(1,10,i+1)\n",
    "    plt.imshow(X_train[i])\n",
    "    plt.title(class_names[np.argmax(y_train[i])])\n",
    "    plt.axis('off')\n",
    "plt.tight_layout()    \n",
    "plt.show()"
   ]
  },
  {
   "cell_type": "markdown",
   "id": "fc79c942",
   "metadata": {},
   "source": [
    "## **Level 1: Basic CNN**"
   ]
  },
  {
   "cell_type": "code",
   "execution_count": null,
   "id": "17f84e8f",
   "metadata": {},
   "outputs": [],
   "source": [
    "model1= models.Sequential([\n",
    "\n",
    "    #Block 1\n",
    "    layers.Conv2D(32, (3,3), activation='relu', input_shape=(32,32,3)),\n",
    "    layers.Conv2D(64,(3,3), activation='relu'),\n",
    "    layers.MaxPooling2D((2,2)),\n",
    "\n",
    "    #block 2\n",
    "    layers.Conv2D(64,(3,3), activation='relu'),\n",
    "    layers.Conv2D(64,(3,3), activation='relu'),\n",
    "    layers.MaxPooling2D((2,2)),\n",
    "\n",
    "    layers.Flatten(),\n",
    "    layers.Dense(64, activation='relu'),\n",
    "    layers.Dense(10, activation='softmax')\n",
    "]\n",
    ")"
   ]
  },
  {
   "cell_type": "code",
   "execution_count": 121,
   "id": "17699f52",
   "metadata": {},
   "outputs": [
    {
     "name": "stdout",
     "output_type": "stream",
     "text": [
      "Model: \"sequential_21\"\n",
      "_________________________________________________________________\n",
      " Layer (type)                Output Shape              Param #   \n",
      "=================================================================\n",
      " conv2d_22 (Conv2D)          (None, 30, 30, 32)        896       \n",
      "                                                                 \n",
      " conv2d_23 (Conv2D)          (None, 28, 28, 64)        18496     \n",
      "                                                                 \n",
      " max_pooling2d_10 (MaxPoolin  (None, 14, 14, 64)       0         \n",
      " g2D)                                                            \n",
      "                                                                 \n",
      " conv2d_24 (Conv2D)          (None, 12, 12, 64)        36928     \n",
      "                                                                 \n",
      " conv2d_25 (Conv2D)          (None, 10, 10, 64)        36928     \n",
      "                                                                 \n",
      " max_pooling2d_11 (MaxPoolin  (None, 5, 5, 64)         0         \n",
      " g2D)                                                            \n",
      "                                                                 \n",
      " conv2d_26 (Conv2D)          (None, 5, 5, 64)          4160      \n",
      "                                                                 \n",
      " flatten_2 (Flatten)         (None, 1600)              0         \n",
      "                                                                 \n",
      " dense_36 (Dense)            (None, 64)                102464    \n",
      "                                                                 \n",
      " dense_37 (Dense)            (None, 10)                650       \n",
      "                                                                 \n",
      "=================================================================\n",
      "Total params: 200,522\n",
      "Trainable params: 200,522\n",
      "Non-trainable params: 0\n",
      "_________________________________________________________________\n"
     ]
    }
   ],
   "source": [
    "model1.summary()"
   ]
  },
  {
   "cell_type": "code",
   "execution_count": 122,
   "id": "26a2d331",
   "metadata": {},
   "outputs": [],
   "source": [
    "optimizer = Adam(learning_rate=0.001)\n",
    "model1.compile(optimizer=optimizer, loss='categorical_crossentropy',metrics=['accuracy'])"
   ]
  },
  {
   "cell_type": "code",
   "execution_count": 123,
   "id": "90cda766",
   "metadata": {},
   "outputs": [
    {
     "name": "stdout",
     "output_type": "stream",
     "text": [
      "Epoch 1/10\n",
      "625/625 [==============================] - 7s 10ms/step - loss: 1.6608 - accuracy: 0.3928 - val_loss: 1.3990 - val_accuracy: 0.4918\n",
      "Epoch 2/10\n",
      "625/625 [==============================] - 6s 9ms/step - loss: 1.2702 - accuracy: 0.5491 - val_loss: 1.2217 - val_accuracy: 0.5678\n",
      "Epoch 3/10\n",
      "625/625 [==============================] - 6s 9ms/step - loss: 1.0752 - accuracy: 0.6203 - val_loss: 0.9928 - val_accuracy: 0.6500\n",
      "Epoch 4/10\n",
      "625/625 [==============================] - 6s 9ms/step - loss: 0.9407 - accuracy: 0.6710 - val_loss: 0.9448 - val_accuracy: 0.6703\n",
      "Epoch 5/10\n",
      "625/625 [==============================] - 6s 9ms/step - loss: 0.8435 - accuracy: 0.7039 - val_loss: 0.9282 - val_accuracy: 0.6677\n",
      "Epoch 6/10\n",
      "625/625 [==============================] - 6s 9ms/step - loss: 0.7745 - accuracy: 0.7265 - val_loss: 0.8114 - val_accuracy: 0.7159\n",
      "Epoch 7/10\n",
      "625/625 [==============================] - 6s 10ms/step - loss: 0.7087 - accuracy: 0.7517 - val_loss: 0.8578 - val_accuracy: 0.7012\n",
      "Epoch 8/10\n",
      "625/625 [==============================] - 6s 10ms/step - loss: 0.6519 - accuracy: 0.7707 - val_loss: 0.7731 - val_accuracy: 0.7311\n",
      "Epoch 9/10\n",
      "625/625 [==============================] - 6s 10ms/step - loss: 0.5935 - accuracy: 0.7924 - val_loss: 0.8020 - val_accuracy: 0.7280\n",
      "Epoch 10/10\n",
      "625/625 [==============================] - 6s 10ms/step - loss: 0.5518 - accuracy: 0.8038 - val_loss: 0.8142 - val_accuracy: 0.7326\n"
     ]
    }
   ],
   "source": [
    "history1 = model1.fit(X_train, y_train, epochs=10, \n",
    "                    batch_size=64, \n",
    "                    validation_split=0.2)"
   ]
  },
  {
   "cell_type": "markdown",
   "id": "16686373",
   "metadata": {},
   "source": [
    "## **Level 2: Advanced Model** "
   ]
  },
  {
   "cell_type": "code",
   "execution_count": null,
   "id": "cf7c1bc3",
   "metadata": {},
   "outputs": [],
   "source": [
    "from tensorflow.keras.preprocessing.image import ImageDataGenerator\n",
    "datagen = ImageDataGenerator(rotation_range=15, width_shift_range=0.1,height_shift_range=0.1,horizontal_flip=True,zoom_range=0.1)\n",
    "datagen.fit(X_train)"
   ]
  },
  {
   "cell_type": "code",
   "execution_count": 124,
   "id": "9b6ea716",
   "metadata": {},
   "outputs": [],
   "source": [
    "from tensorflow.keras.callbacks import ModelCheckpoint\n",
    "checkpoint = ModelCheckpoint(filepath=\"best.h5\", save_best_only=True, monitor='val_accuracy', mode='max')"
   ]
  },
  {
   "cell_type": "code",
   "execution_count": null,
   "id": "48af8352",
   "metadata": {},
   "outputs": [],
   "source": [
    "from tensorflow.keras.layers import BatchNormalization, Dropout\n",
    "model2= models.Sequential([\n",
    "\n",
    "    layers.Conv2D(32, (3,3), padding='same', activation='relu', input_shape=(32,32,3)),\n",
    "    BatchNormalization(),\n",
    "    layers.Conv2D(32,(3,3), padding='same', activation='relu'),\n",
    "    BatchNormalization(),\n",
    "    layers.MaxPooling2D((2,2)),\n",
    "    Dropout(0.25),\n",
    "\n",
    "    \n",
    "    layers.Conv2D(64,(3,3), padding='same', activation='relu'),\n",
    "    BatchNormalization(),\n",
    "    layers.Conv2D(64,(3,3), padding='same', activation='relu'),\n",
    "    BatchNormalization(),\n",
    "    layers.MaxPooling2D((2,2)),\n",
    "    Dropout(0.3),\n",
    "\n",
    "    layers.Conv2D(128,(3,3), padding='same', activation='relu'),\n",
    "    BatchNormalization(),\n",
    "    layers.Conv2D(128,(3,3), padding='same', activation='relu'),\n",
    "    BatchNormalization(),\n",
    "    layers.MaxPooling2D((2,2)),\n",
    "    Dropout(0.4),\n",
    "    \n",
    "    \n",
    "    layers.GlobalAveragePooling2D(),\n",
    "    layers.Dense(128, activation='relu'),\n",
    "    Dropout(0.5),\n",
    "    layers.Dense(10, activation='softmax')\n",
    "]\n",
    ")"
   ]
  },
  {
   "cell_type": "code",
   "execution_count": 127,
   "id": "0f8162a4",
   "metadata": {},
   "outputs": [
    {
     "name": "stdout",
     "output_type": "stream",
     "text": [
      "Model: \"sequential_22\"\n",
      "_________________________________________________________________\n",
      " Layer (type)                Output Shape              Param #   \n",
      "=================================================================\n",
      " conv2d_27 (Conv2D)          (None, 32, 32, 32)        896       \n",
      "                                                                 \n",
      " batch_normalization_12 (Bat  (None, 32, 32, 32)       128       \n",
      " chNormalization)                                                \n",
      "                                                                 \n",
      " conv2d_28 (Conv2D)          (None, 32, 32, 32)        9248      \n",
      "                                                                 \n",
      " batch_normalization_13 (Bat  (None, 32, 32, 32)       128       \n",
      " chNormalization)                                                \n",
      "                                                                 \n",
      " max_pooling2d_12 (MaxPoolin  (None, 16, 16, 32)       0         \n",
      " g2D)                                                            \n",
      "                                                                 \n",
      " dropout_22 (Dropout)        (None, 16, 16, 32)        0         \n",
      "                                                                 \n",
      " conv2d_29 (Conv2D)          (None, 16, 16, 64)        18496     \n",
      "                                                                 \n",
      " batch_normalization_14 (Bat  (None, 16, 16, 64)       256       \n",
      " chNormalization)                                                \n",
      "                                                                 \n",
      " conv2d_30 (Conv2D)          (None, 16, 16, 64)        36928     \n",
      "                                                                 \n",
      " batch_normalization_15 (Bat  (None, 16, 16, 64)       256       \n",
      " chNormalization)                                                \n",
      "                                                                 \n",
      " max_pooling2d_13 (MaxPoolin  (None, 8, 8, 64)         0         \n",
      " g2D)                                                            \n",
      "                                                                 \n",
      " dropout_23 (Dropout)        (None, 8, 8, 64)          0         \n",
      "                                                                 \n",
      " conv2d_31 (Conv2D)          (None, 8, 8, 128)         73856     \n",
      "                                                                 \n",
      " batch_normalization_16 (Bat  (None, 8, 8, 128)        512       \n",
      " chNormalization)                                                \n",
      "                                                                 \n",
      " conv2d_32 (Conv2D)          (None, 8, 8, 128)         147584    \n",
      "                                                                 \n",
      " batch_normalization_17 (Bat  (None, 8, 8, 128)        512       \n",
      " chNormalization)                                                \n",
      "                                                                 \n",
      " max_pooling2d_14 (MaxPoolin  (None, 4, 4, 128)        0         \n",
      " g2D)                                                            \n",
      "                                                                 \n",
      " dropout_24 (Dropout)        (None, 4, 4, 128)         0         \n",
      "                                                                 \n",
      " global_average_pooling2d_16  (None, 128)              0         \n",
      "  (GlobalAveragePooling2D)                                       \n",
      "                                                                 \n",
      " dense_38 (Dense)            (None, 128)               16512     \n",
      "                                                                 \n",
      " dropout_25 (Dropout)        (None, 128)               0         \n",
      "                                                                 \n",
      " dense_39 (Dense)            (None, 10)                1290      \n",
      "                                                                 \n",
      "=================================================================\n",
      "Total params: 306,602\n",
      "Trainable params: 305,706\n",
      "Non-trainable params: 896\n",
      "_________________________________________________________________\n"
     ]
    }
   ],
   "source": [
    "model2.summary()"
   ]
  },
  {
   "cell_type": "code",
   "execution_count": 128,
   "id": "3cbb429b",
   "metadata": {},
   "outputs": [],
   "source": [
    "optimizer = Adam(learning_rate=0.001)\n",
    "model2.compile(optimizer=optimizer, loss='categorical_crossentropy',metrics=['accuracy'])"
   ]
  },
  {
   "cell_type": "code",
   "execution_count": 129,
   "id": "08be1e51",
   "metadata": {},
   "outputs": [
    {
     "name": "stdout",
     "output_type": "stream",
     "text": [
      "Epoch 1/25\n",
      "625/625 [==============================] - 12s 16ms/step - loss: 1.5476 - accuracy: 0.4345 - val_loss: 1.5071 - val_accuracy: 0.4722\n",
      "Epoch 2/25\n",
      "625/625 [==============================] - 9s 15ms/step - loss: 1.1535 - accuracy: 0.5890 - val_loss: 1.0120 - val_accuracy: 0.6307\n",
      "Epoch 3/25\n",
      "625/625 [==============================] - 9s 15ms/step - loss: 0.9838 - accuracy: 0.6550 - val_loss: 0.9504 - val_accuracy: 0.6613\n",
      "Epoch 4/25\n",
      "625/625 [==============================] - 9s 14ms/step - loss: 0.8812 - accuracy: 0.6934 - val_loss: 1.0368 - val_accuracy: 0.6549\n",
      "Epoch 5/25\n",
      "625/625 [==============================] - 9s 14ms/step - loss: 0.7896 - accuracy: 0.7280 - val_loss: 0.6913 - val_accuracy: 0.7532\n",
      "Epoch 6/25\n",
      "625/625 [==============================] - 10s 15ms/step - loss: 0.7304 - accuracy: 0.7518 - val_loss: 0.7226 - val_accuracy: 0.7526\n",
      "Epoch 7/25\n",
      "625/625 [==============================] - 10s 17ms/step - loss: 0.6859 - accuracy: 0.7667 - val_loss: 0.7752 - val_accuracy: 0.7345\n",
      "Epoch 8/25\n",
      "625/625 [==============================] - 10s 16ms/step - loss: 0.6443 - accuracy: 0.7811 - val_loss: 0.6701 - val_accuracy: 0.7747\n",
      "Epoch 9/25\n",
      "625/625 [==============================] - 9s 15ms/step - loss: 0.6161 - accuracy: 0.7912 - val_loss: 0.6179 - val_accuracy: 0.7858\n",
      "Epoch 10/25\n",
      "625/625 [==============================] - 9s 14ms/step - loss: 0.5900 - accuracy: 0.7994 - val_loss: 0.7368 - val_accuracy: 0.7567\n",
      "Epoch 11/25\n",
      "625/625 [==============================] - 9s 15ms/step - loss: 0.5567 - accuracy: 0.8117 - val_loss: 0.6679 - val_accuracy: 0.7833\n",
      "Epoch 12/25\n",
      "625/625 [==============================] - 9s 15ms/step - loss: 0.5352 - accuracy: 0.8194 - val_loss: 0.6996 - val_accuracy: 0.7629\n",
      "Epoch 13/25\n",
      "625/625 [==============================] - 8s 13ms/step - loss: 0.5218 - accuracy: 0.8219 - val_loss: 0.6684 - val_accuracy: 0.7806\n",
      "Epoch 14/25\n",
      "625/625 [==============================] - 9s 14ms/step - loss: 0.4970 - accuracy: 0.8324 - val_loss: 0.5444 - val_accuracy: 0.8145\n",
      "Epoch 15/25\n",
      "625/625 [==============================] - 9s 14ms/step - loss: 0.4830 - accuracy: 0.8369 - val_loss: 0.5411 - val_accuracy: 0.8168\n",
      "Epoch 16/25\n",
      "625/625 [==============================] - 9s 15ms/step - loss: 0.4692 - accuracy: 0.8404 - val_loss: 0.5053 - val_accuracy: 0.8297\n",
      "Epoch 17/25\n",
      "625/625 [==============================] - 9s 15ms/step - loss: 0.4536 - accuracy: 0.8467 - val_loss: 0.6092 - val_accuracy: 0.7952\n",
      "Epoch 18/25\n",
      "625/625 [==============================] - 9s 15ms/step - loss: 0.4444 - accuracy: 0.8485 - val_loss: 0.5338 - val_accuracy: 0.8242\n",
      "Epoch 19/25\n",
      "625/625 [==============================] - 9s 15ms/step - loss: 0.4310 - accuracy: 0.8526 - val_loss: 0.4830 - val_accuracy: 0.8398\n",
      "Epoch 20/25\n",
      "625/625 [==============================] - 9s 15ms/step - loss: 0.4177 - accuracy: 0.8576 - val_loss: 0.4903 - val_accuracy: 0.8398\n",
      "Epoch 21/25\n",
      "625/625 [==============================] - 9s 15ms/step - loss: 0.4115 - accuracy: 0.8601 - val_loss: 0.5077 - val_accuracy: 0.8302\n",
      "Epoch 22/25\n",
      "625/625 [==============================] - 10s 16ms/step - loss: 0.3968 - accuracy: 0.8646 - val_loss: 0.4946 - val_accuracy: 0.8407\n",
      "Epoch 23/25\n",
      "625/625 [==============================] - 10s 15ms/step - loss: 0.3910 - accuracy: 0.8670 - val_loss: 0.5484 - val_accuracy: 0.8267\n",
      "Epoch 24/25\n",
      "625/625 [==============================] - 10s 16ms/step - loss: 0.3723 - accuracy: 0.8717 - val_loss: 0.5319 - val_accuracy: 0.8356\n",
      "Epoch 25/25\n",
      "625/625 [==============================] - 10s 15ms/step - loss: 0.3742 - accuracy: 0.8727 - val_loss: 0.5327 - val_accuracy: 0.8319\n"
     ]
    }
   ],
   "source": [
    "history2 = model2.fit(X_train, y_train, batch_size=64, \n",
    "                    epochs=25, \n",
    "                    validation_split=0.2,\n",
    "                    callbacks=[checkpoint])"
   ]
  },
  {
   "cell_type": "code",
   "execution_count": 130,
   "id": "95650bb5",
   "metadata": {},
   "outputs": [],
   "source": [
    "model2.load_weights(\"best.h5\")"
   ]
  },
  {
   "cell_type": "code",
   "execution_count": 145,
   "id": "652a5a79",
   "metadata": {},
   "outputs": [
    {
     "name": "stdout",
     "output_type": "stream",
     "text": [
      "313/313 [==============================] - 2s 5ms/step - loss: 0.8455 - accuracy: 0.7269\n",
      "313/313 [==============================] - 2s 7ms/step - loss: 0.5028 - accuracy: 0.8371\n"
     ]
    }
   ],
   "source": [
    "loss1, acc1= model1.evaluate(X_test, y_test)\n",
    "loss2, acc2= model2.evaluate(X_test, y_test)"
   ]
  },
  {
   "cell_type": "code",
   "execution_count": 147,
   "id": "e8670e80",
   "metadata": {},
   "outputs": [
    {
     "name": "stdout",
     "output_type": "stream",
     "text": [
      "313/313 [==============================] - 1s 4ms/step\n"
     ]
    }
   ],
   "source": [
    "pred1 = model1.predict(X_test)\n",
    "pred1 = np.argmax(pred1, axis=1) "
   ]
  },
  {
   "cell_type": "code",
   "execution_count": 158,
   "id": "bacb507c",
   "metadata": {},
   "outputs": [
    {
     "name": "stdout",
     "output_type": "stream",
     "text": [
      "313/313 [==============================] - 2s 5ms/step\n"
     ]
    }
   ],
   "source": [
    "pred2 = model2.predict(X_test)\n",
    "pred2 = np.argmax(pred2, axis=1) "
   ]
  },
  {
   "cell_type": "code",
   "execution_count": 160,
   "id": "6aabe374",
   "metadata": {},
   "outputs": [],
   "source": [
    "true_labels = [class_names[i] for i in np.argmax(y_test[:10], axis=1)]"
   ]
  },
  {
   "cell_type": "code",
   "execution_count": 186,
   "id": "0e7f88c2",
   "metadata": {},
   "outputs": [],
   "source": [
    "pred1_labels = [class_names[i] for i in pred1[:10]]\n",
    "pred2_labels = [class_names[i] for i in pred2[:10]]"
   ]
  },
  {
   "cell_type": "code",
   "execution_count": 187,
   "id": "333fbe74",
   "metadata": {},
   "outputs": [
    {
     "data": {
      "application/vnd.microsoft.datawrangler.viewer.v0+json": {
       "columns": [
        {
         "name": "index",
         "rawType": "int64",
         "type": "integer"
        },
        {
         "name": "True Labels",
         "rawType": "object",
         "type": "string"
        },
        {
         "name": "Basic",
         "rawType": "object",
         "type": "string"
        },
        {
         "name": "Advanced",
         "rawType": "object",
         "type": "string"
        }
       ],
       "ref": "43e10d13-4718-4a10-b624-6ca79c6d70fb",
       "rows": [
        [
         "0",
         "cat",
         "cat",
         "cat"
        ],
        [
         "1",
         "ship",
         "automobile",
         "ship"
        ],
        [
         "2",
         "ship",
         "automobile",
         "ship"
        ],
        [
         "3",
         "airplane",
         "airplane",
         "airplane"
        ],
        [
         "4",
         "frog",
         "frog",
         "frog"
        ],
        [
         "5",
         "frog",
         "frog",
         "frog"
        ],
        [
         "6",
         "automobile",
         "truck",
         "automobile"
        ],
        [
         "7",
         "frog",
         "frog",
         "frog"
        ],
        [
         "8",
         "cat",
         "cat",
         "cat"
        ],
        [
         "9",
         "automobile",
         "automobile",
         "automobile"
        ]
       ],
       "shape": {
        "columns": 3,
        "rows": 10
       }
      },
      "text/html": [
       "<div>\n",
       "<style scoped>\n",
       "    .dataframe tbody tr th:only-of-type {\n",
       "        vertical-align: middle;\n",
       "    }\n",
       "\n",
       "    .dataframe tbody tr th {\n",
       "        vertical-align: top;\n",
       "    }\n",
       "\n",
       "    .dataframe thead th {\n",
       "        text-align: right;\n",
       "    }\n",
       "</style>\n",
       "<table border=\"1\" class=\"dataframe\">\n",
       "  <thead>\n",
       "    <tr style=\"text-align: right;\">\n",
       "      <th></th>\n",
       "      <th>True Labels</th>\n",
       "      <th>Basic</th>\n",
       "      <th>Advanced</th>\n",
       "    </tr>\n",
       "  </thead>\n",
       "  <tbody>\n",
       "    <tr>\n",
       "      <th>0</th>\n",
       "      <td>cat</td>\n",
       "      <td>cat</td>\n",
       "      <td>cat</td>\n",
       "    </tr>\n",
       "    <tr>\n",
       "      <th>1</th>\n",
       "      <td>ship</td>\n",
       "      <td>automobile</td>\n",
       "      <td>ship</td>\n",
       "    </tr>\n",
       "    <tr>\n",
       "      <th>2</th>\n",
       "      <td>ship</td>\n",
       "      <td>automobile</td>\n",
       "      <td>ship</td>\n",
       "    </tr>\n",
       "    <tr>\n",
       "      <th>3</th>\n",
       "      <td>airplane</td>\n",
       "      <td>airplane</td>\n",
       "      <td>airplane</td>\n",
       "    </tr>\n",
       "    <tr>\n",
       "      <th>4</th>\n",
       "      <td>frog</td>\n",
       "      <td>frog</td>\n",
       "      <td>frog</td>\n",
       "    </tr>\n",
       "    <tr>\n",
       "      <th>5</th>\n",
       "      <td>frog</td>\n",
       "      <td>frog</td>\n",
       "      <td>frog</td>\n",
       "    </tr>\n",
       "    <tr>\n",
       "      <th>6</th>\n",
       "      <td>automobile</td>\n",
       "      <td>truck</td>\n",
       "      <td>automobile</td>\n",
       "    </tr>\n",
       "    <tr>\n",
       "      <th>7</th>\n",
       "      <td>frog</td>\n",
       "      <td>frog</td>\n",
       "      <td>frog</td>\n",
       "    </tr>\n",
       "    <tr>\n",
       "      <th>8</th>\n",
       "      <td>cat</td>\n",
       "      <td>cat</td>\n",
       "      <td>cat</td>\n",
       "    </tr>\n",
       "    <tr>\n",
       "      <th>9</th>\n",
       "      <td>automobile</td>\n",
       "      <td>automobile</td>\n",
       "      <td>automobile</td>\n",
       "    </tr>\n",
       "  </tbody>\n",
       "</table>\n",
       "</div>"
      ],
      "text/plain": [
       "  True Labels       Basic    Advanced\n",
       "0         cat         cat         cat\n",
       "1        ship  automobile        ship\n",
       "2        ship  automobile        ship\n",
       "3    airplane    airplane    airplane\n",
       "4        frog        frog        frog\n",
       "5        frog        frog        frog\n",
       "6  automobile       truck  automobile\n",
       "7        frog        frog        frog\n",
       "8         cat         cat         cat\n",
       "9  automobile  automobile  automobile"
      ]
     },
     "execution_count": 187,
     "metadata": {},
     "output_type": "execute_result"
    }
   ],
   "source": [
    "import pandas as pd\n",
    "pd.DataFrame({'True Labels': true_labels, 'Basic': pred1_labels, 'Advanced': pred2_labels})"
   ]
  },
  {
   "cell_type": "code",
   "execution_count": null,
   "id": "48eacc22",
   "metadata": {},
   "outputs": [],
   "source": []
  }
 ],
 "metadata": {
  "kernelspec": {
   "display_name": "tf",
   "language": "python",
   "name": "python3"
  },
  "language_info": {
   "codemirror_mode": {
    "name": "ipython",
    "version": 3
   },
   "file_extension": ".py",
   "mimetype": "text/x-python",
   "name": "python",
   "nbconvert_exporter": "python",
   "pygments_lexer": "ipython3",
   "version": "3.9.23"
  }
 },
 "nbformat": 4,
 "nbformat_minor": 5
}
