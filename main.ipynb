{
 "cells": [
  {
   "cell_type": "markdown",
   "id": "ea644928",
   "metadata": {},
   "source": [
    "# 🖼️ **CIFAR-10 Image Classification**\n",
    "\n",
    "\n",
    "\n",
    "## 📌 **Introduction**\n",
    "The CIFAR-10 dataset consists of **60,000 tiny color images (32x32 pixels)** across **10 object categories**, including airplane, automobile, bird, cat, deer, dog, frog, horse, ship, and truck.  \n",
    "Image classification is a **core task in computer vision**, helping machines understand and recognize visual information.\n",
    "\n",
    "This project focuses on:\n",
    "- Building a **Custom Convolutional Neural Network (CNN)** with Dropout, Batch Normalization, and Data Augmentation.\n",
    "- Leveraging a **Pretrained ResNet50 model** for improved performance.\n",
    "- Comparing both models using **accuracy, precision, recall, F1-score, and confusion matrices**.\n",
    "- Visualizing **training curves and sample predictions**.\n",
    "\n",
    "---\n",
    "\n",
    "## 🎯 **Objectives**\n",
    "- Perform **data loading and preprocessing** on CIFAR-10 images.  \n",
    "- Train a **Custom CNN** and evaluate its performance.  \n",
    "- Apply **Transfer Learning** using ResNet50.  \n",
    "- Compare **performance metrics** of both models.  \n",
    "- Visualize **training results and predictions** for better understanding.\n"
   ]
  },
  {
   "cell_type": "markdown",
   "id": "89ebafaa",
   "metadata": {},
   "source": [
    "-------------"
   ]
  },
  {
   "cell_type": "markdown",
   "id": "220c5cce",
   "metadata": {},
   "source": []
  }
 ],
 "metadata": {
  "language_info": {
   "name": "python"
  }
 },
 "nbformat": 4,
 "nbformat_minor": 5
}
