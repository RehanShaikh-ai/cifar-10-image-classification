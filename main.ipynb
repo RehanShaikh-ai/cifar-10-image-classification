{
 "cells": [
  {
   "cell_type": "markdown",
   "id": "ea644928",
   "metadata": {},
   "source": [
    "## 🖼️ **CIFAR-10 Image Classification**\n",
    "\n",
    "\n",
    "\n",
    "## 📌 **Introduction**\n",
    "The CIFAR-10 dataset consists of **60,000 tiny color images (32x32 pixels)** across **10 object categories**, including airplane, automobile, bird, cat, deer, dog, frog, horse, ship, and truck.  \n",
    "Image classification is a **core task in computer vision**, helping machines understand and recognize visual information.\n",
    "\n",
    "This project focuses on:\n",
    "- Building a **Custom Convolutional Neural Network (CNN)** with Dropout, Batch Normalization, and Data Augmentation.\n",
    "- Leveraging a **Pretrained ResNet50 model** for improved performance.\n",
    "- Comparing both models using **accuracy, precision, recall, F1-score, and confusion matrices**.\n",
    "- Visualizing **training curves and sample predictions**.\n",
    "\n",
    "---\n",
    "\n",
    "## 🎯 **Objectives**\n",
    "- Perform **data loading and preprocessing** on CIFAR-10 images.  \n",
    "- Train a **Custom CNN** and evaluate its performance.  \n",
    "- Apply **Transfer Learning** using ResNet50.  \n",
    "- Compare **performance metrics** of both models.  \n",
    "- Visualize **training results and predictions** for better understanding.\n"
   ]
  },
  {
   "cell_type": "markdown",
   "id": "89ebafaa",
   "metadata": {},
   "source": [
    "-------------"
   ]
  },
  {
   "cell_type": "markdown",
   "id": "d515fdb6",
   "metadata": {},
   "source": [
    "### **Importing required libraries**"
   ]
  },
  {
   "cell_type": "markdown",
   "id": "bdc59306",
   "metadata": {},
   "source": [
    "_run this command if you do NOT have these libraries installed_\n",
    "```bash\n",
    "pip install -r requirements.txt\n",
    "```"
   ]
  },
  {
   "cell_type": "code",
   "execution_count": 1,
   "id": "1e755aa2",
   "metadata": {},
   "outputs": [],
   "source": [
    "import tensorflow.keras as tf\n",
    "from tensorflow.keras.datasets import cifar10\n",
    "from tensorflow.keras.utils import to_categorical\n",
    "from tensorflow.keras.preprocessing.image import ImageDataGenerator\n",
    "import matplotlib.pyplot as plt\n",
    "import numpy as np"
   ]
  },
  {
   "cell_type": "code",
   "execution_count": 2,
   "id": "1471222e",
   "metadata": {},
   "outputs": [
    {
     "name": "stdout",
     "output_type": "stream",
     "text": [
      "Downloading data from https://www.cs.toronto.edu/~kriz/cifar-10-python.tar.gz\n",
      "\u001b[1m170498071/170498071\u001b[0m \u001b[32m━━━━━━━━━━━━━━━━━━━━\u001b[0m\u001b[37m\u001b[0m \u001b[1m27s\u001b[0m 0us/step\n"
     ]
    }
   ],
   "source": [
    "(X_train, y_train),(X_test, y_train) = cifar10.load_data()"
   ]
  },
  {
   "cell_type": "code",
   "execution_count": 3,
   "id": "1433a242",
   "metadata": {},
   "outputs": [
    {
     "name": "stdout",
     "output_type": "stream",
     "text": [
      "Train Images:  (50000, 32, 32, 3)\n",
      "Train Images:  (10000, 32, 32, 3)\n"
     ]
    }
   ],
   "source": [
    "print(\"Train Images: \", X_train.shape)\n",
    "print(\"Train Images: \", X_test.shape)"
   ]
  },
  {
   "cell_type": "code",
   "execution_count": 4,
   "id": "7bb771a7",
   "metadata": {},
   "outputs": [],
   "source": [
    "X_train = X_train.astype('float') /255.0\n",
    "X_test = X_test.astype('float') /255.0"
   ]
  },
  {
   "cell_type": "code",
   "execution_count": null,
   "id": "44678a55",
   "metadata": {},
   "outputs": [],
   "source": []
  }
 ],
 "metadata": {
  "kernelspec": {
   "display_name": "base",
   "language": "python",
   "name": "python3"
  },
  "language_info": {
   "codemirror_mode": {
    "name": "ipython",
    "version": 3
   },
   "file_extension": ".py",
   "mimetype": "text/x-python",
   "name": "python",
   "nbconvert_exporter": "python",
   "pygments_lexer": "ipython3",
   "version": "3.12.3"
  }
 },
 "nbformat": 4,
 "nbformat_minor": 5
}
